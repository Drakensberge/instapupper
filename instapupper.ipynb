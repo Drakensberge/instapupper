{
 "cells": [
  {
   "cell_type": "code",
   "execution_count": 263,
   "metadata": {},
   "outputs": [],
   "source": [
    "%reload_ext dotenv\n",
    "%dotenv .env\n",
    "import os\n",
    "# Store your passwords and usernames and api keys and stuff in a file called .env . \n",
    "# Make sure to not track that file in Git!\n",
    "# This isn't super secure but it's better than putting secrets in your notebook.\n",
    "\n",
    "# The .env file should consist of rows that look like:\n",
    "# var_name='value'"
   ]
  },
  {
   "cell_type": "code",
   "execution_count": 245,
   "metadata": {},
   "outputs": [
    {
     "name": "stdout",
     "output_type": "stream",
     "text": [
      "Request return 429 error!\n",
      "{'message': 'Please wait a few minutes before you try again.', 'status': 'fail'}\n",
      "Request return 404 error!\n",
      "Login success!\n",
      "\n"
     ]
    },
    {
     "data": {
      "text/plain": [
       "True"
      ]
     },
     "execution_count": 245,
     "metadata": {},
     "output_type": "execute_result"
    }
   ],
   "source": [
    "from InstagramAPI import InstagramAPI\n",
    "os.getenv('username')\n",
    "os.getenv('pwd')\n",
    "InstagramAPI = InstagramAPI(os.getenv('username'), os.getenv('pwd'))\n",
    "\n",
    "InstagramAPI.login()"
   ]
  },
  {
   "cell_type": "code",
   "execution_count": 249,
   "metadata": {},
   "outputs": [],
   "source": [
    "def get_url(timeline_item):\n",
    "    try:\n",
    "        return timeline_item['image_versions2']['candidates'][0]['url']\n",
    "    except:\n",
    "        return None"
   ]
  },
  {
   "cell_type": "code",
   "execution_count": 250,
   "metadata": {},
   "outputs": [],
   "source": [
    "from IPython.display import Image\n",
    "from IPython.display import display\n",
    "\n",
    "def display_images(url_list):\n",
    "    for url,caption in url_list:\n",
    "        img = Image(url=url)\n",
    "        display(img)\n",
    "        print(caption)\n"
   ]
  },
  {
   "cell_type": "code",
   "execution_count": 251,
   "metadata": {},
   "outputs": [],
   "source": [
    "def get_caption(timeline_item):\n",
    "    return timeline_item['caption']['text']"
   ]
  },
  {
   "cell_type": "code",
   "execution_count": 252,
   "metadata": {},
   "outputs": [],
   "source": [
    "def get_urls_with_captions(items):\n",
    "    urls_with_captions = []\n",
    "    for item in items:\n",
    "        caption = None\n",
    "        url = get_url(item)\n",
    "        caption = get_caption(item)\n",
    "        #print((url, caption))\n",
    "        urls_with_captions.append((url, caption))\n",
    "    return urls_with_captions"
   ]
  },
  {
   "cell_type": "code",
   "execution_count": 254,
   "metadata": {},
   "outputs": [],
   "source": [
    "import time\n",
    "import json\n",
    "\n",
    "def get_posts(topic, max_posts=5, max_id=''):\n",
    "    full_items=[]\n",
    "    has_more_posts = True\n",
    "\n",
    "    while has_more_posts:\n",
    "        InstagramAPI.getHashtagFeed(topic, maxid=max_id)\n",
    "        if InstagramAPI.LastJson['more_available'] is not True:\n",
    "            has_more_posts = False #stop condition\n",
    "            print(\"no more posts to load\")\n",
    "        max_id = InstagramAPI.LastJson.get('next_max_id','')\n",
    "        #remove non-image posts\n",
    "        photo_batch= filter(lambda k: k['media_type']==1, InstagramAPI.LastJson['items'])\n",
    "        #remove captionless images\n",
    "        photo_batch= filter(lambda k: k['caption'], photo_batch)\n",
    "        full_items.extend(photo_batch) #merge lists\n",
    "        time.sleep(0.05) # Slows the script down to avoid flooding the servers \n",
    "        print(len(full_items))\n",
    "        if len(full_items) > max_posts:\n",
    "            break\n",
    "            \n",
    "    return full_items"
   ]
  },
  {
   "cell_type": "code",
   "execution_count": 255,
   "metadata": {},
   "outputs": [
    {
     "name": "stdout",
     "output_type": "stream",
     "text": [
      "55\n"
     ]
    },
    {
     "data": {
      "text/html": [
       "<img src=\"https://scontent-sjc3-1.cdninstagram.com/vp/35ca0e94cf73403d8fae61ab6ff36248/5CF46E95/t51.2885-15/sh0.08/e35/p750x750/49660859_2016060455158412_667291844273323530_n.jpg?_nc_ht=scontent-sjc3-1.cdninstagram.com&ig_cache_key=MTk3MDkwMDcxMzk0OTE5ODYyMA%3D%3D.2\"/>"
      ],
      "text/plain": [
       "<IPython.core.display.Image object>"
      ]
     },
     "metadata": {},
     "output_type": "display_data"
    },
    {
     "name": "stdout",
     "output_type": "stream",
     "text": [
      "The way I look at my mum when I want to go for a walk 😂 🐶 .\n",
      ".\n",
      ".\n",
      ".\n",
      ".\n",
      ".\n",
      ".\n",
      "#rileythehuntawayx #huntawayx #huntawaysofinstagram #huntawaysofnz #nzhuntaways #dog #doggo #pooch #dogsofinstagram #dogstagram #instadog #dogs_of_instagram #spcanz #cute #rescuedog\n"
     ]
    },
    {
     "data": {
      "text/html": [
       "<img src=\"https://scontent-sjc3-1.cdninstagram.com/vp/67b5ea3878cada3761e33dcdd5399738/5CDD772C/t51.2885-15/sh0.08/e35/s750x750/51440334_349876242281769_907339817163289995_n.jpg?_nc_ht=scontent-sjc3-1.cdninstagram.com&ig_cache_key=MTk3MDkwMDQyMTk3NTY4ODg0MQ%3D%3D.2\"/>"
      ],
      "text/plain": [
       "<IPython.core.display.Image object>"
      ]
     },
     "metadata": {},
     "output_type": "display_data"
    },
    {
     "name": "stdout",
     "output_type": "stream",
     "text": [
      "Mom, why? .\n",
      ".\n",
      ".\n",
      "#goldenretriever #puppystagram #puppiesofinstagram #dogstagram #dogsofinstagram #doggo #dodge #dog #puppy #relax\n"
     ]
    },
    {
     "data": {
      "text/html": [
       "<img src=\"https://scontent-sjc3-1.cdninstagram.com/vp/1cf725d77ca83ffe36bc0e69760d8d25/5CF537F8/t51.2885-15/sh0.08/e35/s750x750/51053206_830744793944192_7014879362060984271_n.jpg?_nc_ht=scontent-sjc3-1.cdninstagram.com&ig_cache_key=MTk3MDkwMDMzMzY4NTE3MDYzOA%3D%3D.2\"/>"
      ],
      "text/plain": [
       "<IPython.core.display.Image object>"
      ]
     },
     "metadata": {},
     "output_type": "display_data"
    },
    {
     "name": "stdout",
     "output_type": "stream",
     "text": [
      "Black lab in the dark. #lowlightphotography #doggo\n",
      "#labrador #retreiver #adoptdontshop #goodboy\n"
     ]
    },
    {
     "data": {
      "text/html": [
       "<img src=\"https://scontent-sjc3-1.cdninstagram.com/vp/aa078b5fd684d77c50a14a27b073a76e/5CF65425/t51.2885-15/sh0.08/e35/p750x750/50690849_297594950822455_4472093566846485801_n.jpg?_nc_ht=scontent-sjc3-1.cdninstagram.com&ig_cache_key=MTk3MDkwMDE3NTc1MzE2NjQzNg%3D%3D.2\"/>"
      ],
      "text/plain": [
       "<IPython.core.display.Image object>"
      ]
     },
     "metadata": {},
     "output_type": "display_data"
    },
    {
     "name": "stdout",
     "output_type": "stream",
     "text": [
      "The way I look at carbs 👀😍🥐🥯🥞🧀🧁 #likeforlikes #cutestpets #followforfollowback #cute #southafrica #dogsofinstagram #dog #dogstagram #l4l #likeforfollow #l4f #followforfollow #likesforlikes #capetown #igers #instamood #instadaily #petoftheday #doggo #inspirationalquotes #instagram #love #instalove #carbs\n"
     ]
    },
    {
     "data": {
      "text/html": [
       "<img src=\"https://scontent-sjc3-1.cdninstagram.com/vp/c59ef0c2d5b03665028199dcc0d26732/5CE21068/t51.2885-15/sh0.08/e35/s750x750/50710818_117152036020756_3404578393322699005_n.jpg?_nc_ht=scontent-sjc3-1.cdninstagram.com&ig_cache_key=MTk3MDkwMDE3Nzc4NDg0OTU1NQ%3D%3D.2\"/>"
      ],
      "text/plain": [
       "<IPython.core.display.Image object>"
      ]
     },
     "metadata": {},
     "output_type": "display_data"
    },
    {
     "name": "stdout",
     "output_type": "stream",
     "text": [
      "Wanna play with me?\n",
      ".\n",
      ".\n",
      ".\n",
      ".\n",
      ".\n",
      ".\n",
      ".\n",
      ".\n",
      ".\n",
      ".\n",
      ".\n",
      "#dogsofinsta #dog #tennisballs #sanjanaisdumb #playtime #fetch #wannaplay #woah #dogsbeingbasic #doggo #redsofa # stopitisay #dogs_of_world  #doggroomer #letsgo\n"
     ]
    },
    {
     "data": {
      "text/html": [
       "<img src=\"https://scontent-sjc3-1.cdninstagram.com/vp/8281df158ffe34a15639bcda3e583af7/5CE355C5/t51.2885-15/sh0.08/e35/s750x750/50988333_315613319082026_1862456444671358611_n.jpg?_nc_ht=scontent-sjc3-1.cdninstagram.com&ig_cache_key=MTk3MDkwMDE0MjI4NDMwMDIyNw%3D%3D.2\"/>"
      ],
      "text/plain": [
       "<IPython.core.display.Image object>"
      ]
     },
     "metadata": {},
     "output_type": "display_data"
    },
    {
     "name": "stdout",
     "output_type": "stream",
     "text": [
      "Rainy days are great for napping and watching netflix! We just finished season 1 of the new Sabrina the teenage witch! .\n",
      ".\n",
      ".\n",
      ".\n",
      ".\n",
      "#pupstagram #chihuahualove #chihuahualife #chihuahuafanatics #chihuahualover #chihuahuaworld #instachihuahua #chihuahuamix #chihuahuaoftheday #dog#petsoriginal #bestdogsever  #pomelo #puppysitting #instapuppies #doglover#puppyspam#doggo#doggy#dogfilter#dogsrule\n"
     ]
    },
    {
     "data": {
      "text/html": [
       "<img src=\"https://scontent-sjc3-1.cdninstagram.com/vp/32707ec95da476f6510f0bcd898391d8/5CE29714/t51.2885-15/sh0.08/e35/s750x750/50293457_649404562156020_1614607248826601642_n.jpg?_nc_ht=scontent-sjc3-1.cdninstagram.com&ig_cache_key=MTk3MDkwMDAzMjk1NTA0MzU4MQ%3D%3D.2\"/>"
      ],
      "text/plain": [
       "<IPython.core.display.Image object>"
      ]
     },
     "metadata": {},
     "output_type": "display_data"
    },
    {
     "name": "stdout",
     "output_type": "stream",
     "text": [
      "Good morning •\n",
      "•\n",
      "•\n",
      "•\n",
      "#good #cute #beautiful #doggo #cuteness #mornings #wakeUp\n"
     ]
    },
    {
     "data": {
      "text/html": [
       "<img src=\"https://scontent-sjc3-1.cdninstagram.com/vp/f4772cb461dd0842f50ccc3a95318dd8/5CEF4536/t51.2885-15/sh0.08/e35/s750x750/50783043_983316465201410_3536020531281460157_n.jpg?_nc_ht=scontent-sjc3-1.cdninstagram.com&ig_cache_key=MTk3MDg5OTg0NzIxNDg2NTIyMw%3D%3D.2\"/>"
      ],
      "text/plain": [
       "<IPython.core.display.Image object>"
      ]
     },
     "metadata": {},
     "output_type": "display_data"
    },
    {
     "name": "stdout",
     "output_type": "stream",
     "text": [
      "How good is everything today, woof.  #melbournecity #doggo #hotdawg #cheerio\n"
     ]
    },
    {
     "data": {
      "text/html": [
       "<img src=\"https://scontent-sjc3-1.cdninstagram.com/vp/dccdf2db47db07cbcef3d288ce5dcf40/5CDD50C5/t51.2885-15/sh0.08/e35/s750x750/50240783_139752923707565_3272264793319885414_n.jpg?_nc_ht=scontent-sjc3-1.cdninstagram.com&ig_cache_key=MTk3MDg5OTczMDI2ODcyNzc2Nw%3D%3D.2\"/>"
      ],
      "text/plain": [
       "<IPython.core.display.Image object>"
      ]
     },
     "metadata": {},
     "output_type": "display_data"
    },
    {
     "name": "stdout",
     "output_type": "stream",
     "text": [
      "One does not simply put a rain jacket on a dog💦\n",
      ".\n",
      ".\n",
      ".\n",
      "Admin hihi\n",
      "#daily #dogs #dog #doge #doggo #doggy #doggie #dogoftheday #dogfashion #dog #dogsofinstagram #dogstagram #instadog #doglovers #doglover #dog #puppies #puppy #pupper #animal #instadog #cute #adorable #일상 #개 #강아지 #개스타그램 #멍스타그램 #멍멍이 #귀여워 #댕댕이 #la #엘에이일상\n"
     ]
    },
    {
     "data": {
      "text/html": [
       "<img src=\"https://scontent-sjc3-1.cdninstagram.com/vp/e22c4f819458debc570362f559f86aae/5CF7B8F5/t51.2885-15/sh0.08/e35/p750x750/49906700_354385845398108_8812889696260867847_n.jpg?_nc_ht=scontent-sjc3-1.cdninstagram.com&ig_cache_key=MTk3MDg5OTYyMTEyMzQyNTQ3Mw%3D%3D.2\"/>"
      ],
      "text/plain": [
       "<IPython.core.display.Image object>"
      ]
     },
     "metadata": {},
     "output_type": "display_data"
    },
    {
     "name": "stdout",
     "output_type": "stream",
     "text": [
      "Ball is life!\n",
      "\n",
      "Park finds are the best 😊\n",
      "\n",
      "#Rottweiler #Rott #Rottie #RottweilerPuppy #RottiePup #RottiePuppy #Puppy #Pupper #Purebread  #Bobtail #NaturalBornBobtail #NBT #Pupper #Doggo #Doge #Woofer #Bruce #Brucie #LilBrucie #BrucieTheRottie #rottweilersofinstagram #ballislife #dogpark #parkrun #happyboy #handsome #bigtounge\n"
     ]
    },
    {
     "data": {
      "text/html": [
       "<img src=\"https://scontent-sjc3-1.cdninstagram.com/vp/7e54f1644c793e09c3417e06fbf461ce/5CE92EE3/t51.2885-15/sh0.08/e35/p750x750/50127063_491555558037827_8441107976337017791_n.jpg?_nc_ht=scontent-sjc3-1.cdninstagram.com&ig_cache_key=MTk3MDg5OTU5NzkzMDc3MDczNA%3D%3D.2\"/>"
      ],
      "text/plain": [
       "<IPython.core.display.Image object>"
      ]
     },
     "metadata": {},
     "output_type": "display_data"
    },
    {
     "name": "stdout",
     "output_type": "stream",
     "text": [
      "#pupper #kauai #doggo #dogsofinstagram #melia\n"
     ]
    },
    {
     "data": {
      "text/html": [
       "<img src=\"https://scontent-sjc3-1.cdninstagram.com/vp/ca41aef842913d8c8e56fd19855459b2/5CF1680E/t51.2885-15/sh0.08/e35/s750x750/50708437_389234955220121_2252326065579495986_n.jpg?_nc_ht=scontent-sjc3-1.cdninstagram.com&ig_cache_key=MTk3MDg5OTU3MzgwMzEwNzE4MQ%3D%3D.2\"/>"
      ],
      "text/plain": [
       "<IPython.core.display.Image object>"
      ]
     },
     "metadata": {},
     "output_type": "display_data"
    },
    {
     "name": "stdout",
     "output_type": "stream",
     "text": [
      "Sunday morning adventures with my hooman!\n",
      "\n",
      "#doggo #dogsofinstagram #dogsofinsta #cockerspaniel #englishcockerspaniel #cockerspanielsofinstagram #cockersofinstagram #adventuretime  #sundayfunday\n"
     ]
    },
    {
     "data": {
      "text/html": [
       "<img src=\"https://scontent-sjc3-1.cdninstagram.com/vp/4aae24e7019b24823918c7c3aa447106/5CDC7665/t51.2885-15/sh0.08/e35/p750x750/49983168_809616799377311_8525852157350739806_n.jpg?_nc_ht=scontent-sjc3-1.cdninstagram.com&ig_cache_key=MTk3MDg5OTUzMjIyOTQwOTIwMQ%3D%3D.2\"/>"
      ],
      "text/plain": [
       "<IPython.core.display.Image object>"
      ]
     },
     "metadata": {},
     "output_type": "display_data"
    },
    {
     "name": "stdout",
     "output_type": "stream",
     "text": [
      "It’s not a lie.\n",
      ".\n",
      ".\n",
      ".\n",
      ".\n",
      "#husky #huskymix #huskypuppy #huskies #huksyshepherdmix #shepherd #germanshepherd #shepherdmix #shepherdpuppy #puppy #dogsofinstagram #dogs #puppies #shepherd #pets #outdoors #winter #walks #harnesses #dogloversofinstagram #doglovers #doggo #pupper #christmas #snow #blizzard\n"
     ]
    },
    {
     "data": {
      "text/html": [
       "<img src=\"https://scontent-sjc3-1.cdninstagram.com/vp/583386d4d46c99a64682e1aaa050716e/5CE6F828/t51.2885-15/sh0.08/e35/s750x750/49505749_170873237221791_4516452121133979565_n.jpg?_nc_ht=scontent-sjc3-1.cdninstagram.com&ig_cache_key=MTk3MDg5OTUyMTU4NDA4MzY3Nw%3D%3D.2\"/>"
      ],
      "text/plain": [
       "<IPython.core.display.Image object>"
      ]
     },
     "metadata": {},
     "output_type": "display_data"
    },
    {
     "name": "stdout",
     "output_type": "stream",
     "text": [
      "TURTLES! DUCKS!!! PLAAAAYYYYYY 😂💛 #hund #doggo #petstagram #doglife #animal #lovedogs #puppies #pup #cat #art #puppiesofinstagram #instagramdogs #dogsofinsta #chihuahua #banho #bhfyp #doggie #hundeliebe #me #lol #d #feature #picoftheday #shibainu #nature #labradorretriever #music #petshop #likes #dogslife\n"
     ]
    },
    {
     "data": {
      "text/html": [
       "<img src=\"https://scontent-sjc3-1.cdninstagram.com/vp/cf1847b315caac906052c4ef67e3495c/5CF079BD/t51.2885-15/sh0.08/e35/s750x750/50024290_374992576634129_237074297606341295_n.jpg?_nc_ht=scontent-sjc3-1.cdninstagram.com&ig_cache_key=MTk3MDg5OTUxMDM5NTQ1NTAzNQ%3D%3D.2\"/>"
      ],
      "text/plain": [
       "<IPython.core.display.Image object>"
      ]
     },
     "metadata": {},
     "output_type": "display_data"
    },
    {
     "name": "stdout",
     "output_type": "stream",
     "text": [
      "🐶\n"
     ]
    },
    {
     "data": {
      "text/html": [
       "<img src=\"https://scontent-sjc3-1.cdninstagram.com/vp/9b30a5df9ff0b71bcbabb501f947fb8f/5CF6E261/t51.2885-15/sh0.08/e35/s750x750/51101885_774908026199229_8184306776315168202_n.jpg?_nc_ht=scontent-sjc3-1.cdninstagram.com&ig_cache_key=MTk3MDg5OTQ2NjAyNjQ2Njc0MQ%3D%3D.2\"/>"
      ],
      "text/plain": [
       "<IPython.core.display.Image object>"
      ]
     },
     "metadata": {},
     "output_type": "display_data"
    },
    {
     "name": "stdout",
     "output_type": "stream",
     "text": [
      "The moment you realise that your dog isn’t going to let you read the last chapter because she wants to play. #sandydog #labrador #dogperson #doggo #beachtime #girlswhoread #bibliophile #bookworm #quiettime #timealone #oceanshores #nsw #northernrivers #beachbum #artemisfowl\n"
     ]
    },
    {
     "data": {
      "text/html": [
       "<img src=\"https://scontent-sjc3-1.cdninstagram.com/vp/92e0980b728fece2454813574b4fe009/5CFC3514/t51.2885-15/sh0.08/e35/s750x750/50578367_802850050062620_7758019714164679326_n.jpg?_nc_ht=scontent-sjc3-1.cdninstagram.com&ig_cache_key=MTk3MDg5OTM4OTI0NTU2OTE2NQ%3D%3D.2\"/>"
      ],
      "text/plain": [
       "<IPython.core.display.Image object>"
      ]
     },
     "metadata": {},
     "output_type": "display_data"
    },
    {
     "name": "stdout",
     "output_type": "stream",
     "text": [
      "Just making sure mommy is ok..right on this comfy pillow...\n",
      ".\n",
      ".\n",
      ".\n",
      "#goldenretriever #puppystagram #puppiesofinstagram #dogstagram #dogsofinstagram #doggo #dodge #dog #puppy #relax\n"
     ]
    },
    {
     "data": {
      "text/html": [
       "<img src=\"https://scontent-sjc3-1.cdninstagram.com/vp/d955730d9243e04c6b3db66b79434211/5CDEE502/t51.2885-15/sh0.08/e35/p750x750/50713352_382933655602333_5622759678893108219_n.jpg?_nc_ht=scontent-sjc3-1.cdninstagram.com&ig_cache_key=MTk3MDg5OTMyNTUxNzUxMjQ4MA%3D%3D.2\"/>"
      ],
      "text/plain": [
       "<IPython.core.display.Image object>"
      ]
     },
     "metadata": {},
     "output_type": "display_data"
    },
    {
     "name": "stdout",
     "output_type": "stream",
     "text": [
      "YAAAAAS It’s my gotcha day! One year ago today, I found  my furever home! I love my hoomans so much, thank you for bringing me home! 🏡 💙🐾🦴🐶🥰 #gotchaday  #happygotchaday #fureverhome #family #chewy #bark #petco #puppiesofinstagram #poochon #dapperdog #bowtie #doggo #foreverhome\n"
     ]
    },
    {
     "data": {
      "text/html": [
       "<img src=\"https://scontent-sjc3-1.cdninstagram.com/vp/4c433de3ae0a2b016277952d4f710ccc/5CE313F8/t51.2885-15/sh0.08/e35/p750x750/50962694_386137308613476_7819221052765014282_n.jpg?_nc_ht=scontent-sjc3-1.cdninstagram.com&ig_cache_key=MTk3MDg5OTI5NDgxNDc3MzE3MA%3D%3D.2\"/>"
      ],
      "text/plain": [
       "<IPython.core.display.Image object>"
      ]
     },
     "metadata": {},
     "output_type": "display_data"
    },
    {
     "name": "stdout",
     "output_type": "stream",
     "text": [
      "#throwback to a little over a year ago when i was lovin my auntie's fuzzy blanket 😂\n",
      ".\n",
      "$ off @packleashes @packleashesadventures with promo code: queenk\n",
      "#doberman #dobermans #dobermanpinscher #dobermanpup #dobermanpuppy #dobbie #dobie #cute #adorable #pretty #beautiful #dog #doggy #doggo #pup #puppy\n"
     ]
    },
    {
     "data": {
      "text/html": [
       "<img src=\"https://scontent-sjc3-1.cdninstagram.com/vp/67a50ab9c127ec7efa70a124f3ddffc0/5CE30D22/t51.2885-15/sh0.08/e35/s750x750/50028158_2272788179418757_3130591743995410961_n.jpg?_nc_ht=scontent-sjc3-1.cdninstagram.com&ig_cache_key=MTk3MDg5OTI2NzQ0MjcyMjE2MQ%3D%3D.2\"/>"
      ],
      "text/plain": [
       "<IPython.core.display.Image object>"
      ]
     },
     "metadata": {},
     "output_type": "display_data"
    },
    {
     "name": "stdout",
     "output_type": "stream",
     "text": [
      "I’m growing up 😢 🐶 🐾 thanks to @the_bully_house_australia for the dope as chain and leash 🤟\n"
     ]
    },
    {
     "data": {
      "text/html": [
       "<img src=\"https://scontent-sjc3-1.cdninstagram.com/vp/dc18d53c77d4a309642751e082a671ba/5CE56FC5/t51.2885-15/sh0.08/e35/s750x750/51570667_2051012984977163_6906056469025127739_n.jpg?_nc_ht=scontent-sjc3-1.cdninstagram.com&ig_cache_key=MTk3MDg5OTIwOTgyMTQ1NDY0NA%3D%3D.2\"/>"
      ],
      "text/plain": [
       "<IPython.core.display.Image object>"
      ]
     },
     "metadata": {},
     "output_type": "display_data"
    },
    {
     "name": "stdout",
     "output_type": "stream",
     "text": [
      "We got  Dedossed during R6 ranked game\n",
      "•\n",
      "•\n",
      "•\n",
      "•\n",
      "•\n",
      "•\n",
      "•\n",
      "•\n",
      "•\n",
      "•\n",
      "#dank #memes #dankmemes #h3h3 #lmao #filthyfranku #gamer #games #lol #oof #triggered #weirdmemes #feminism #Doggo #Dog #Funny #heil #dankmemescanmeltsteelbeams #hitler #megaoof #hashtag #recent #eminem #strange #sports #important #idubbbz #ricegum #pewdiepie\n"
     ]
    },
    {
     "data": {
      "text/html": [
       "<img src=\"https://scontent-sjc3-1.cdninstagram.com/vp/08a6d58bad5e8cf85ca0ef10cf8f87fb/5CFBAB32/t51.2885-15/sh0.08/e35/p750x750/50262131_1212160212285690_7080157211737692189_n.jpg?_nc_ht=scontent-sjc3-1.cdninstagram.com&ig_cache_key=MTk3MDg5OTIwNDQyMDQyODMyNg%3D%3D.2\"/>"
      ],
      "text/plain": [
       "<IPython.core.display.Image object>"
      ]
     },
     "metadata": {},
     "output_type": "display_data"
    },
    {
     "name": "stdout",
     "output_type": "stream",
     "text": [
      "🐶Lovely💕❤️\n",
      "📷From, @peggy_teddy_sausage\n"
     ]
    },
    {
     "data": {
      "text/html": [
       "<img src=\"https://scontent-sjc3-1.cdninstagram.com/vp/4944395253ada5c805dfca51d5bb736b/5CECB64A/t51.2885-15/e35/50079451_2131357247175255_6300476086376734486_n.jpg?_nc_ht=scontent-sjc3-1.cdninstagram.com&ig_cache_key=MTk3MDg5OTE0MDI3OTkwNDMzNg%3D%3D.2\"/>"
      ],
      "text/plain": [
       "<IPython.core.display.Image object>"
      ]
     },
     "metadata": {},
     "output_type": "display_data"
    },
    {
     "name": "stdout",
     "output_type": "stream",
     "text": [
      "Savannah gave me a piece of my favorite fruit! Aka watermelon 🍉\n",
      "#dogsofinstagram #dog #dogs #dogsofinstaworld #doggo #dogstagram #doggy #sleepy #feature #featurethis #featureme  #doglovers #foryou #dogoftheday #cold #winter #lazy #dognation #dogappreciation #dogapproved #lazydog #lazydogs #lazydogsofwinter #doglover #dogofthedays #fruit\n"
     ]
    },
    {
     "data": {
      "text/html": [
       "<img src=\"https://scontent-sjc3-1.cdninstagram.com/vp/ed6460bf7b6ea5d5b88c5b51fe791c09/5CFEACF8/t51.2885-15/sh0.08/e35/s750x750/50115186_2270754773212280_6591457781294207530_n.jpg?_nc_ht=scontent-sjc3-1.cdninstagram.com&ig_cache_key=MTk3MDg5OTEwNTI5MjI0MjIyMw%3D%3D.2\"/>"
      ],
      "text/plain": [
       "<IPython.core.display.Image object>"
      ]
     },
     "metadata": {},
     "output_type": "display_data"
    },
    {
     "name": "stdout",
     "output_type": "stream",
     "text": [
      "Lazyyy Sunday 🌞\n",
      "\n",
      "#dogsofinstagram #puppy #lab #cute #doggo\n"
     ]
    },
    {
     "data": {
      "text/html": [
       "<img src=\"https://scontent-sjc3-1.cdninstagram.com/vp/2ad38992eed6aeab6a01f44bdb5c9ab7/5CE6B50C/t51.2885-15/sh0.08/e35/s750x750/50286409_2299021130326991_7009887004687915420_n.jpg?_nc_ht=scontent-sjc3-1.cdninstagram.com&ig_cache_key=MTk3MDg5OTAwNzgzNDA3MTI4OA%3D%3D.2\"/>"
      ],
      "text/plain": [
       "<IPython.core.display.Image object>"
      ]
     },
     "metadata": {},
     "output_type": "display_data"
    },
    {
     "name": "stdout",
     "output_type": "stream",
     "text": [
      "#eurasierscanada #eurasierlove #eurasierofinstagram #eurasierlovers #eurasiersofinstagram #eurasier #eurasierpuppy #eurasierlife #eurasiers #puppylove🐶 #puppylovers #puppiesofig #puppylove #puppiesofinstagram #puppies #puppy #cutepuppyclub #cutedog #dogstagram #doggo #doggie #dogs #doggies #dog #dogsofinstagram\n"
     ]
    },
    {
     "data": {
      "text/html": [
       "<img src=\"https://scontent-sjc3-1.cdninstagram.com/vp/00e4425c449881432d7ae4a9a3edcae3/5CF56EE5/t51.2885-15/sh0.08/e35/s750x750/50498156_302143987170783_6045131052652345432_n.jpg?_nc_ht=scontent-sjc3-1.cdninstagram.com&ig_cache_key=MTk3MDg5ODk2ODE3OTE0NzMyNw%3D%3D.2\"/>"
      ],
      "text/plain": [
       "<IPython.core.display.Image object>"
      ]
     },
     "metadata": {},
     "output_type": "display_data"
    },
    {
     "name": "stdout",
     "output_type": "stream",
     "text": [
      "Rainy day relaxes 🌧\n",
      ".\n",
      ".\n",
      ".\n",
      ".\n",
      ".\n",
      ".\n",
      ".\n",
      ".\n",
      ".\n",
      "#germanpointer #shorthairedpointer #germanshorthairedpointersofinstagram #pointersofinstagram #puppy #doggo #rescue #cattledog #mixedbreed #dogsofinstagram #puppiesofinstagram\n"
     ]
    },
    {
     "data": {
      "text/html": [
       "<img src=\"https://scontent-sjc3-1.cdninstagram.com/vp/0dbc1fb5ddd1a7ad8c3e4068bde39fad/5CDD31FA/t51.2885-15/sh0.08/e35/p750x750/51080363_1563383243794573_7874183410842976627_n.jpg?_nc_ht=scontent-sjc3-1.cdninstagram.com&ig_cache_key=MTk3MDg5ODcxMzk3OTEzMzQ0MQ%3D%3D.2\"/>"
      ],
      "text/plain": [
       "<IPython.core.display.Image object>"
      ]
     },
     "metadata": {},
     "output_type": "display_data"
    },
    {
     "name": "stdout",
     "output_type": "stream",
     "text": [
      "All ready to go out, and then cuddle-stopped. Dachshund 1, human 0 ❤️. .\n",
      ".\n",
      ".\n",
      ".\n",
      ".\n",
      ".\n",
      "#dachshundsofinstagram #dachshund #dachshundsunited #dachshundofinstagram #dachshundlove #dog #dogsofinstagram #dogsofinstagram #dogsofig #doglove #rescue #rescuedog #doxiesofinstagram #weinerdog #sausagedog #doglover #pupper #dappledachshund #dapple #oldpup #teckel #doggo #gooddoggo #cuddles #cuddlebuddy #necksnuggles\n"
     ]
    },
    {
     "data": {
      "text/html": [
       "<img src=\"https://scontent-sjc3-1.cdninstagram.com/vp/a76c8f03548ff0e3b7479f0d26dfa2c5/5CE2E07B/t51.2885-15/sh0.08/e35/p750x750/50003418_250617795834950_3239701681129380622_n.jpg?_nc_ht=scontent-sjc3-1.cdninstagram.com&ig_cache_key=MTk3MDg5ODYyMTMzNTYxNzYwNg%3D%3D.2\"/>"
      ],
      "text/plain": [
       "<IPython.core.display.Image object>"
      ]
     },
     "metadata": {},
     "output_type": "display_data"
    },
    {
     "name": "stdout",
     "output_type": "stream",
     "text": [
      "So this isn't how you relax? Weirdo. .\n",
      ".\n",
      ".\n",
      "#goldenretriever #puppystagram #puppiesofinstagram #dogstagram #dogsofinstagram #doggo #dodge #dog #puppy #relax\n"
     ]
    },
    {
     "data": {
      "text/html": [
       "<img src=\"https://scontent-sjc3-1.cdninstagram.com/vp/cba7f5bd88a18c81f6a27dda79a30c9d/5CEED3E0/t51.2885-15/sh0.08/e35/s750x750/50601152_361308624597936_4004463340496074174_n.jpg?_nc_ht=scontent-sjc3-1.cdninstagram.com&ig_cache_key=MTk3MDg5ODYxOTQ5ODY4MTI3OQ%3D%3D.2\"/>"
      ],
      "text/plain": [
       "<IPython.core.display.Image object>"
      ]
     },
     "metadata": {},
     "output_type": "display_data"
    },
    {
     "name": "stdout",
     "output_type": "stream",
     "text": [
      "You snooze, you lose\n",
      "#pico #pwd #dog #doggo #pup #puppy #dogs #porty #winter #portugueswaterdogs #pwdofinstagram #portugueswaterdogsofinstagram\n"
     ]
    },
    {
     "data": {
      "text/html": [
       "<img src=\"https://scontent-sjc3-1.cdninstagram.com/vp/6f23ad96a38c9aee76e05df60e6654e6/5CF326E2/t51.2885-15/e35/50589193_305618636763332_8021040283155142919_n.jpg?_nc_ht=scontent-sjc3-1.cdninstagram.com&ig_cache_key=MTk3MDg5ODQ3ODgwNTgzMTQ3MQ%3D%3D.2\"/>"
      ],
      "text/plain": [
       "<IPython.core.display.Image object>"
      ]
     },
     "metadata": {},
     "output_type": "display_data"
    },
    {
     "name": "stdout",
     "output_type": "stream",
     "text": [
      "Chill dude chill 😎\n",
      ".\n",
      ".\n",
      ".\n",
      "Admin hihi\n",
      "#daily #dogs #dog #doge #doggo #doggy #doggie #dogoftheday #dogfashion #dog #dogsofinstagram #dogstagram #instadog #doglovers #doglover #dog #puppies #puppy #pupper #animal #instadog #cute #adorable #일상 #개 #강아지 #개스타그램 #멍스타그램 #멍멍이 #귀여워 #댕댕이 #la #엘에이일상\n"
     ]
    },
    {
     "data": {
      "text/html": [
       "<img src=\"https://scontent-sjc3-1.cdninstagram.com/vp/536c5e644f8c71e5177b6ce4ba6ac05b/5CDC642B/t51.2885-15/sh0.08/e35/s750x750/50807057_785119368532701_6500504112802307643_n.jpg?_nc_ht=scontent-sjc3-1.cdninstagram.com&ig_cache_key=MTk3MDg5ODQ1ODgwNzk1MzM0NQ%3D%3D.2\"/>"
      ],
      "text/plain": [
       "<IPython.core.display.Image object>"
      ]
     },
     "metadata": {},
     "output_type": "display_data"
    },
    {
     "name": "stdout",
     "output_type": "stream",
     "text": [
      "Cuddling with daddy, waiting for him to fix the bed #huskiesofinstagram #dog #dogsofinstagram #dogs #puppy #love #instadog #dogstagram #cute #pet #animal #puppiesofinstagram #doggy #bully  #pets #like #cutedog #instagram #puppylove  #instagood #doggo\n"
     ]
    },
    {
     "data": {
      "text/html": [
       "<img src=\"https://scontent-sjc3-1.cdninstagram.com/vp/edcdeb24c9489e016897977fd77be50b/5CE5D0DA/t51.2885-15/sh0.08/e35/s750x750/50081074_286299552035738_8452275171485822362_n.jpg?_nc_ht=scontent-sjc3-1.cdninstagram.com&ig_cache_key=MTk3MDg5ODQzNTk2NTIxMjk5Mg%3D%3D.2\"/>"
      ],
      "text/plain": [
       "<IPython.core.display.Image object>"
      ]
     },
     "metadata": {},
     "output_type": "display_data"
    },
    {
     "name": "stdout",
     "output_type": "stream",
     "text": [
      "Happy Saturday! Hope everyone has a fun weekend! Stay warm and dry furrriends!\n",
      ".\n",
      ".\n",
      "#Siberian #Husky #dogsofinstagram #puppy #mansbestfriend #Huskygram #dog #doggo #doge #pupper #cuteAF #WestCoast #California #BigPupper #Derp #CuteDoggo\n"
     ]
    },
    {
     "data": {
      "text/html": [
       "<img src=\"https://scontent-sjc3-1.cdninstagram.com/vp/ca2d9556b6c6a34f0ebd729a4bc8b900/5CFEEE86/t51.2885-15/sh0.08/e35/p750x750/51071863_138492357177764_5473777568833166233_n.jpg?_nc_ht=scontent-sjc3-1.cdninstagram.com&ig_cache_key=MTk3MDg5ODM4NDkyMTA4Mjk3Mg%3D%3D.2\"/>"
      ],
      "text/plain": [
       "<IPython.core.display.Image object>"
      ]
     },
     "metadata": {},
     "output_type": "display_data"
    },
    {
     "name": "stdout",
     "output_type": "stream",
     "text": [
      "Is there more to life than being really, really ridiculously good looking? 🤔\n"
     ]
    },
    {
     "data": {
      "text/html": [
       "<img src=\"https://scontent-sjc3-1.cdninstagram.com/vp/9390de2ad047ec07f3a4e40b33c9aea9/5CE3271A/t51.2885-15/sh0.08/e35/s750x750/50633107_149634799271567_2425982159997495781_n.jpg?_nc_ht=scontent-sjc3-1.cdninstagram.com&ig_cache_key=MTk3MDg5ODMxNzU1MDM1ODkyNw%3D%3D.2\"/>"
      ],
      "text/plain": [
       "<IPython.core.display.Image object>"
      ]
     },
     "metadata": {},
     "output_type": "display_data"
    },
    {
     "name": "stdout",
     "output_type": "stream",
     "text": [
      "#mlem for the 💵 #chihuahua#dayz#smol#doggo\n"
     ]
    },
    {
     "data": {
      "text/html": [
       "<img src=\"https://scontent-sjc3-1.cdninstagram.com/vp/36d97435ff22fa65577f909abd6d4e81/5CE140EA/t51.2885-15/sh0.08/e35/s750x750/49991709_116993499382788_6486849722087806494_n.jpg?_nc_ht=scontent-sjc3-1.cdninstagram.com&ig_cache_key=MTk3MDg5ODI3MzUxODkyMTM3Mg%3D%3D.2\"/>"
      ],
      "text/plain": [
       "<IPython.core.display.Image object>"
      ]
     },
     "metadata": {},
     "output_type": "display_data"
    },
    {
     "name": "stdout",
     "output_type": "stream",
     "text": [
      "Bedtime!\n",
      "#instagram #interiordesign #insta #instapic #bedroomdecor #bed #bedroom #tallinn #finland #dogsofinstagram #dog #dogs #doggie #doggo #cairnterrier #cairnterriers #cairnterrierworld #cairns #cairn #cairnlove #cairnlife #buddy #love #snuggle #snuggles\n"
     ]
    },
    {
     "data": {
      "text/html": [
       "<img src=\"https://scontent-sjc3-1.cdninstagram.com/vp/1e8502182cf01885bb104e0c425fe199/5CEE74C6/t51.2885-15/sh0.08/e35/s750x750/50943482_321747218463740_8479774511839481121_n.jpg?_nc_ht=scontent-sjc3-1.cdninstagram.com&ig_cache_key=MTk3MDg5ODExODA2MDg3OTE0OA%3D%3D.2\"/>"
      ],
      "text/plain": [
       "<IPython.core.display.Image object>"
      ]
     },
     "metadata": {},
     "output_type": "display_data"
    },
    {
     "name": "stdout",
     "output_type": "stream",
     "text": [
      "Both my babies just doing them 🐾✨ COMMENT WEIRD THINGS YOUR ANIMALS DO!\n",
      "•\n",
      "•\n",
      "•\n",
      "•\n",
      "•\n",
      "#cat #kitten #cats #kittens #fluffy #cute #catsofinstagram #catstagram #cats_of_world #catloversclub #catlover #catering #kittensofinstagram #kittenplay #dog #puppy #cute #fluffy #poodle #mini #miniaturepoodle #toypoodle #black #blackdog #fluffydog #cutedogs #dogsofinstagram #doggo #dogsofinsta #dogslife #catanddog #kittenandpuppy\n"
     ]
    },
    {
     "data": {
      "text/html": [
       "<img src=\"https://scontent-sjc3-1.cdninstagram.com/vp/243421f7d6a1a5fbc8f58a275a8f9561/5CED3AC2/t51.2885-15/sh0.08/e35/p750x750/49906886_339948716854958_5893235210839913559_n.jpg?_nc_ht=scontent-sjc3-1.cdninstagram.com&ig_cache_key=MTk3MDg5ODA0MzM1Mzk0NTAxMQ%3D%3D.2\"/>"
      ],
      "text/plain": [
       "<IPython.core.display.Image object>"
      ]
     },
     "metadata": {},
     "output_type": "display_data"
    },
    {
     "name": "stdout",
     "output_type": "stream",
     "text": [
      "Goodmorning from LOCCO 🐶🌞\n",
      ".\n",
      ".\n",
      ".\n",
      ".\n",
      ".\n",
      ".\n",
      ".\n",
      ".\n",
      ".\n",
      ".\n",
      ".\n",
      ".\n",
      ".\n",
      ".\n",
      "#indie #indiedog #dog #dogsofinstagram #doglover #instalike #instalove #instadog #doggy #dogsofinstagram #dog #dogstagram #adopt #adoptdontshop #doggo #goodvibes #happy #bathtime #bath #gurgaon #delhi #petsofinstagram #doggrooming #korean #grooming #bath #petspa #petgrooming #grooming #sundayfunday\n"
     ]
    },
    {
     "data": {
      "text/html": [
       "<img src=\"https://scontent-sjc3-1.cdninstagram.com/vp/d0a748ecc2611fb6d14e7cf3bd68bf30/5CF53FF4/t51.2885-15/sh0.08/e35/s750x750/51477576_137815787241102_3193041419014575342_n.jpg?_nc_ht=scontent-sjc3-1.cdninstagram.com&ig_cache_key=MTk3MDg5Nzk5MTUzNjkxMDE5OA%3D%3D.2\"/>"
      ],
      "text/plain": [
       "<IPython.core.display.Image object>"
      ]
     },
     "metadata": {},
     "output_type": "display_data"
    },
    {
     "name": "stdout",
     "output_type": "stream",
     "text": [
      "Early mornings •\n",
      "•\n",
      "•\n",
      "•\n",
      "#cute #early #mornings #cuteness #doggo #beautiful #sunrise\n"
     ]
    },
    {
     "data": {
      "text/html": [
       "<img src=\"https://scontent-sjc3-1.cdninstagram.com/vp/6e5506376ca241d376a42fd6c48b94c2/5CFA3E4A/t51.2885-15/sh0.08/e35/p750x750/51069313_151422242516259_5662286054953133536_n.jpg?_nc_ht=scontent-sjc3-1.cdninstagram.com&ig_cache_key=MTk3MDg5Nzk1OTYyNzExMDA0NQ%3D%3D.2\"/>"
      ],
      "text/plain": [
       "<IPython.core.display.Image object>"
      ]
     },
     "metadata": {},
     "output_type": "display_data"
    },
    {
     "name": "stdout",
     "output_type": "stream",
     "text": [
      "In other news....dis my pink paw 🐾\n"
     ]
    },
    {
     "data": {
      "text/html": [
       "<img src=\"https://scontent-sjc3-1.cdninstagram.com/vp/fce1d18dff32c74fae98d97dc5c3f17d/5CF75F85/t51.2885-15/sh0.08/e35/s750x750/50740924_233773934228064_5199934298036410116_n.jpg?_nc_ht=scontent-sjc3-1.cdninstagram.com&ig_cache_key=MTk3MDg5Nzg1ODYxMTAwNTQxMg%3D%3D.2\"/>"
      ],
      "text/plain": [
       "<IPython.core.display.Image object>"
      ]
     },
     "metadata": {},
     "output_type": "display_data"
    },
    {
     "name": "stdout",
     "output_type": "stream",
     "text": [
      "My favorite blue sweater. #pug #puppies #doggo\n"
     ]
    },
    {
     "data": {
      "text/html": [
       "<img src=\"https://scontent-sjc3-1.cdninstagram.com/vp/f0dfd67390680411e85b4a1fe90f5081/5CF97B2F/t51.2885-15/sh0.08/e35/s750x750/47692181_370258256888242_2991100615612316348_n.jpg?_nc_ht=scontent-sjc3-1.cdninstagram.com&ig_cache_key=MTk3MDg5NzYyODUyNzE2NzMyOQ%3D%3D.2\"/>"
      ],
      "text/plain": [
       "<IPython.core.display.Image object>"
      ]
     },
     "metadata": {},
     "output_type": "display_data"
    },
    {
     "name": "stdout",
     "output_type": "stream",
     "text": [
      "#love #gsd #dogsofinstagram #dog #dogs #family #we #together #doggo #doglover #doglovers #baby #pet #petsofinstagram #life #brothers #like4likes #like #likeforlikes #follow #follow4followback #followtrain #followforfollow #likeforlikeback #yes\n"
     ]
    },
    {
     "data": {
      "text/html": [
       "<img src=\"https://scontent-sjc3-1.cdninstagram.com/vp/796d91fdda7d9219bfb5d43efb080afc/5CEE3FB4/t51.2885-15/sh0.08/e35/s750x750/50068015_1037951283057948_127961019035390721_n.jpg?_nc_ht=scontent-sjc3-1.cdninstagram.com&ig_cache_key=MTk3MDg5NzU4NjU3NzM1MDEzNQ%3D%3D.2\"/>"
      ],
      "text/plain": [
       "<IPython.core.display.Image object>"
      ]
     },
     "metadata": {},
     "output_type": "display_data"
    },
    {
     "name": "stdout",
     "output_type": "stream",
     "text": [
      "Thanks to our first ever #boondockerswelcome hosts for an amazing welcome and kicking our butts into gear (on #vanlife and playing music!) - so excited to continue getting to know this community ☺️ •\n",
      "•\n",
      "•\n",
      "#florida #southernhospitality #bocaraton #boondocks #homeoswhereyouparkit #jamtime #hospitality #roadtripusa #browardcounty #sunshinestate #doggo\n"
     ]
    },
    {
     "data": {
      "text/html": [
       "<img src=\"https://scontent-sjc3-1.cdninstagram.com/vp/759ab39f2187ff598b4e411a6231c361/5CF86561/t51.2885-15/sh0.08/e35/s750x750/50543171_620253648395343_1641854717034472262_n.jpg?_nc_ht=scontent-sjc3-1.cdninstagram.com&ig_cache_key=MTk3MDg5NzUyMTEyODk0MzczOA%3D%3D.2\"/>"
      ],
      "text/plain": [
       "<IPython.core.display.Image object>"
      ]
     },
     "metadata": {},
     "output_type": "display_data"
    },
    {
     "name": "stdout",
     "output_type": "stream",
     "text": [
      "Little Lions\n",
      "-\n",
      "-\n",
      "-\n",
      "-\n",
      "-\n",
      "#potd #dog #doggo #dogs #doggos #tb #tibetanspaniel #baby #babies #furball #sunset #walk #littlelions #little #doglover\n"
     ]
    },
    {
     "data": {
      "text/html": [
       "<img src=\"https://scontent-sjc3-1.cdninstagram.com/vp/6584e8fad768ca4707d1246c67c84914/5CEB3DA8/t51.2885-15/sh0.08/e35/p750x750/50227301_2268483006765854_2945041023265933947_n.jpg?_nc_ht=scontent-sjc3-1.cdninstagram.com&ig_cache_key=MTk3MDg5NzQ1OTY2NjAxNjI0Mw%3D%3D.2\"/>"
      ],
      "text/plain": [
       "<IPython.core.display.Image object>"
      ]
     },
     "metadata": {},
     "output_type": "display_data"
    },
    {
     "name": "stdout",
     "output_type": "stream",
     "text": [
      "Just sniffin around, don’t mind me👀\n"
     ]
    },
    {
     "data": {
      "text/html": [
       "<img src=\"https://scontent-sjc3-1.cdninstagram.com/vp/ccb9869fab660e0ae9a0c4589e2cc4d3/5CDB675A/t51.2885-15/sh0.08/e35/p750x750/50075655_297656584273655_2750625177605825218_n.jpg?_nc_ht=scontent-sjc3-1.cdninstagram.com&ig_cache_key=MTk3MDg5NzM2NDY0ODI5NzA0Nw%3D%3D.2\"/>"
      ],
      "text/plain": [
       "<IPython.core.display.Image object>"
      ]
     },
     "metadata": {},
     "output_type": "display_data"
    },
    {
     "name": "stdout",
     "output_type": "stream",
     "text": [
      "Hello, my name is Peppa... and I’m a beachaholic ☀️👙\n",
      ".\n",
      ".\n",
      "#pugsofinstagram #aussie #aussiebeach #aussiedog #beachdog #beachaholic #pug #pugslife #pugpuppies #frug #beachbabes #beachbody #perthpugs #mops #mopshond #grumble_inc #petstagram #pet #petsociety #cute #cutedog #cutedogpics #doggo #lifeisbetteratthebeach #adorableanimals #petsofinstagram #petstagram\n"
     ]
    },
    {
     "data": {
      "text/html": [
       "<img src=\"https://scontent-sjc3-1.cdninstagram.com/vp/1ebf8da7f9267dd4123789776b2a10a7/5CE470CC/t51.2885-15/sh0.08/e35/s750x750/50315494_663973454005942_7757065508613506716_n.jpg?_nc_ht=scontent-sjc3-1.cdninstagram.com&ig_cache_key=MTk3MDg5NzEwMzA1Nzk1NTM1Nw%3D%3D.2\"/>"
      ],
      "text/plain": [
       "<IPython.core.display.Image object>"
      ]
     },
     "metadata": {},
     "output_type": "display_data"
    },
    {
     "name": "stdout",
     "output_type": "stream",
     "text": [
      "Kira and her little friend 🙂\n"
     ]
    },
    {
     "data": {
      "text/html": [
       "<img src=\"https://scontent-sjc3-1.cdninstagram.com/vp/cae4f56500ecf212032a854e77f384ea/5CE36336/t51.2885-15/sh0.08/e35/s750x750/50794053_133130694394490_4811131473491074970_n.jpg?_nc_ht=scontent-sjc3-1.cdninstagram.com&ig_cache_key=MTk3MDg5NzEwNzM2OTYxNDQ0MA%3D%3D.2\"/>"
      ],
      "text/plain": [
       "<IPython.core.display.Image object>"
      ]
     },
     "metadata": {},
     "output_type": "display_data"
    },
    {
     "name": "stdout",
     "output_type": "stream",
     "text": [
      "🐶\n"
     ]
    },
    {
     "data": {
      "text/html": [
       "<img src=\"https://scontent-sjc3-1.cdninstagram.com/vp/b58114750d426c9d0234bf903b0236b3/5CDA9A90/t51.2885-15/sh0.08/e35/s750x750/51300955_468252503706588_1539385157953907498_n.jpg?_nc_ht=scontent-sjc3-1.cdninstagram.com&ig_cache_key=MTk3MDg5NzEwMTEyNzA4MDIxNg%3D%3D.2\"/>"
      ],
      "text/plain": [
       "<IPython.core.display.Image object>"
      ]
     },
     "metadata": {},
     "output_type": "display_data"
    },
    {
     "name": "stdout",
     "output_type": "stream",
     "text": [
      "Rise and shine. 🐶🐶\n"
     ]
    },
    {
     "data": {
      "text/html": [
       "<img src=\"https://scontent-sjc3-1.cdninstagram.com/vp/f05c9d26d4448a3830d6f276a21ae269/5CFA676F/t51.2885-15/sh0.08/e35/s750x750/50119015_526351864520010_4284931190087994863_n.jpg?_nc_ht=scontent-sjc3-1.cdninstagram.com&ig_cache_key=MTk3MDg5NzAxOTYxNjA1MjE2NA%3D%3D.2\"/>"
      ],
      "text/plain": [
       "<IPython.core.display.Image object>"
      ]
     },
     "metadata": {},
     "output_type": "display_data"
    },
    {
     "name": "stdout",
     "output_type": "stream",
     "text": [
      "Hi, I’m Charlotte! 🖤🖤\n"
     ]
    },
    {
     "data": {
      "text/html": [
       "<img src=\"https://scontent-sjc3-1.cdninstagram.com/vp/39e060a1297d54ca379cb9055cb71261/5CE2EE4F/t51.2885-15/sh0.08/e35/p750x750/50713344_781141355575478_1746285811992394317_n.jpg?_nc_ht=scontent-sjc3-1.cdninstagram.com&ig_cache_key=MTk3MDg5Njk1NzA4NzM0Nzg5NQ%3D%3D.2\"/>"
      ],
      "text/plain": [
       "<IPython.core.display.Image object>"
      ]
     },
     "metadata": {},
     "output_type": "display_data"
    },
    {
     "name": "stdout",
     "output_type": "stream",
     "text": [
      "Not my best stolen shot! But hell yeah!! #dogsofinstagram #dog #doggo #pugsofinstagram #pug #pugs #pugobsessed #pughug #puglife #dogstagram #dogsofinstaworld #dogoftheday #doglovers #pug_feature #pugloversclub\n"
     ]
    },
    {
     "data": {
      "text/html": [
       "<img src=\"https://scontent-sjc3-1.cdninstagram.com/vp/d3a83db63d6ee96f5310bc7d46ce0dbb/5D007781/t51.2885-15/sh0.08/e35/s750x750/50067999_771145406578478_2594847855675706009_n.jpg?_nc_ht=scontent-sjc3-1.cdninstagram.com&ig_cache_key=MTk3MDg5NjY5NzU1MjYzNjI0Nw%3D%3D.2\"/>"
      ],
      "text/plain": [
       "<IPython.core.display.Image object>"
      ]
     },
     "metadata": {},
     "output_type": "display_data"
    },
    {
     "name": "stdout",
     "output_type": "stream",
     "text": [
      "Did I just hear the magic words \"let's go out\"?! 🤭\n",
      ".\n",
      "#everready\n",
      "#iwannabefree\n",
      "#letsgoout\n",
      "#hellokeiko\n",
      "#keikotheshiba\n",
      "#princessk\n",
      "#homesweethome\n",
      "#barkhappy\n",
      "#bythewindow\n",
      "#buzzfeeddogs\n",
      "#chillax\n",
      "#cuteshiba\n",
      "#cutedog\n",
      "#dailyshiba\n",
      "#dailypets\n",
      "#dailydogfeatures\n",
      "#doggo\n",
      "#dogsofinstaworld\n",
      ".\n"
     ]
    },
    {
     "data": {
      "text/html": [
       "<img src=\"https://scontent-sjc3-1.cdninstagram.com/vp/3786cab5ed8c3e884ba4a4bfacb564fb/5CEED2C1/t51.2885-15/sh0.08/e35/p750x750/50547373_805891056421721_4306807110840056424_n.jpg?_nc_ht=scontent-sjc3-1.cdninstagram.com&ig_cache_key=MTk3MDg5NTg1Mzk3NzU3MDQ0MA%3D%3D.2\"/>"
      ],
      "text/plain": [
       "<IPython.core.display.Image object>"
      ]
     },
     "metadata": {},
     "output_type": "display_data"
    },
    {
     "name": "stdout",
     "output_type": "stream",
     "text": [
      "Edinburgh mirror. #daysoutuk #edinburgh #doggo #thebetterhalf\n"
     ]
    },
    {
     "data": {
      "text/html": [
       "<img src=\"https://scontent-sjc3-1.cdninstagram.com/vp/6a8b1153a9407fc64dd8a7835f4bad68/5CEFD54C/t51.2885-15/sh0.08/e35/s750x750/50313725_162270181424444_4670047542991493074_n.jpg?_nc_ht=scontent-sjc3-1.cdninstagram.com&ig_cache_key=MTk3MDg5NDk1NzYzODAyOTg5Nw%3D%3D.2\"/>"
      ],
      "text/plain": [
       "<IPython.core.display.Image object>"
      ]
     },
     "metadata": {},
     "output_type": "display_data"
    },
    {
     "name": "stdout",
     "output_type": "stream",
     "text": [
      "Marlon is still a bit shy around his auntie 🐾❤️\n",
      ".\n",
      ".\n",
      ".\n",
      ".\n",
      ".\n",
      ".\n",
      ".\n",
      ".\n",
      "#dogaunt #shypuppy #puppy #puppyeyes #doggie #dogsofinstagram #instadog #rescuedog #cutie #dog #doggo\n"
     ]
    },
    {
     "data": {
      "text/html": [
       "<img src=\"https://scontent-sjc3-1.cdninstagram.com/vp/23c7106bb4aa6bc45c67b095b85f3cf1/5CE38451/t51.2885-15/sh0.08/e35/s750x750/49858266_2282509755404391_3808921860707414754_n.jpg?_nc_ht=scontent-sjc3-1.cdninstagram.com&ig_cache_key=MTk2OTQyMjkwNjU2OTk4MDIwNw%3D%3D.2\"/>"
      ],
      "text/plain": [
       "<IPython.core.display.Image object>"
      ]
     },
     "metadata": {},
     "output_type": "display_data"
    },
    {
     "name": "stdout",
     "output_type": "stream",
     "text": [
      "Enjoy my dog casually looking stoned***#puredoggopets #doggo\n"
     ]
    },
    {
     "data": {
      "text/html": [
       "<img src=\"https://scontent-sjc3-1.cdninstagram.com/vp/78a62686bd04eb1e4b192faa521ab32c/5CF3F838/t51.2885-15/sh0.08/e35/p750x750/50012287_2042113229171911_8990564972978921605_n.jpg?_nc_ht=scontent-sjc3-1.cdninstagram.com&ig_cache_key=MTk2OTIwMzEzNjQwNTM0MzQ3MQ%3D%3D.2\"/>"
      ],
      "text/plain": [
       "<IPython.core.display.Image object>"
      ]
     },
     "metadata": {},
     "output_type": "display_data"
    },
    {
     "name": "stdout",
     "output_type": "stream",
     "text": [
      "“Please mom, can I have some more?” 🥺 - begging at its finest.\n"
     ]
    }
   ],
   "source": [
    "full_items = get_posts('doggo')\n",
    "content = get_urls_with_captions(full_items)\n",
    "display_images(content)"
   ]
  },
  {
   "cell_type": "code",
   "execution_count": 265,
   "metadata": {},
   "outputs": [],
   "source": [
    "from twilio.rest import Client\n",
    "\n",
    "# Your Account SID and Auth Token from twilio.com/console\n",
    "client = Client(os.getenv('account_sid'), os.getenv('auth_token'))\n"
   ]
  },
  {
   "cell_type": "code",
   "execution_count": 266,
   "metadata": {},
   "outputs": [],
   "source": [
    "def send_message(img_with_caption,to,sender):\n",
    "    message = client.messages.create(\n",
    "                                  body=img_with_caption[1],\n",
    "                                  to=to,\n",
    "                                  from_=sender,\n",
    "                                  media_url=img_with_caption[0]\n",
    "                              )\n",
    "\n",
    "    print(message.sid)"
   ]
  },
  {
   "cell_type": "code",
   "execution_count": 268,
   "metadata": {},
   "outputs": [],
   "source": [
    "# phone numbers to send messges to\n",
    "tome = os.getenv('tome')\n",
    "toher = os.getenv('toher')\n",
    "# this one comes from the twilio service\n",
    "sender = os.getenv('sender')"
   ]
  },
  {
   "cell_type": "code",
   "execution_count": 269,
   "metadata": {},
   "outputs": [
    {
     "name": "stdout",
     "output_type": "stream",
     "text": [
      "60\n"
     ]
    },
    {
     "data": {
      "text/html": [
       "<img src=\"https://scontent-sjc3-1.cdninstagram.com/vp/a852946fbb986984e470e11358747bc7/5CDFC215/t51.2885-15/e35/50246543_136555230708544_2349132529337337916_n.jpg?_nc_ht=scontent-sjc3-1.cdninstagram.com&ig_cache_key=MTk3MDkwNDgxMjI3MjA2MTk4MQ%3D%3D.2\"/>"
      ],
      "text/plain": [
       "<IPython.core.display.Image object>"
      ]
     },
     "metadata": {},
     "output_type": "display_data"
    },
    {
     "name": "stdout",
     "output_type": "stream",
     "text": [
      "I’m the good boy! .\n",
      ".\n",
      ".\n",
      ".\n",
      ".\n",
      ".\n",
      ".\n",
      ".\n",
      ".\n",
      "#alaskanmalamute #alaskan #malamute #husky #huskey #puppy #dogs #dogsofinstagram #puppies #puppiesofinstagram #goofydog #silly #huskies #huskypuppy #malamutepuppy #goofydogs #huskypuppies  #dogmeme #dogmemes #funny #memes #funnydog #dogmemeofinsta #huskypuppies #dogsofinstagram #huskypuppy #puppylove #puppy #wagwalk #wagwalker #wag\n"
     ]
    },
    {
     "data": {
      "text/html": [
       "<img src=\"https://scontent-sjc3-1.cdninstagram.com/vp/c870bb698df3c384ba00f917b2e844b6/5CF9C484/t51.2885-15/e35/50722789_1602015556608553_2083027903963523238_n.jpg?_nc_ht=scontent-sjc3-1.cdninstagram.com&ig_cache_key=MTk3MDkwMzc1MjYzMDUzMzI1NA%3D%3D.2\"/>"
      ],
      "text/plain": [
       "<IPython.core.display.Image object>"
      ]
     },
     "metadata": {},
     "output_type": "display_data"
    },
    {
     "name": "stdout",
     "output_type": "stream",
     "text": [
      "#dogs #dogmeme #funnydog #dogzoned #funnydogmeme #memeoftheday\n"
     ]
    },
    {
     "data": {
      "text/html": [
       "<img src=\"https://scontent-sjc3-1.cdninstagram.com/vp/cf8aec97aa9db23bbab6ad66d2c073f3/5CDA4C93/t51.2885-15/sh0.08/e35/s750x750/49907030_306939783292700_2525871238310943370_n.jpg?_nc_ht=scontent-sjc3-1.cdninstagram.com&ig_cache_key=MTk3MDg5ODExOTgzMjIxNDIyOA%3D%3D.2\"/>"
      ],
      "text/plain": [
       "<IPython.core.display.Image object>"
      ]
     },
     "metadata": {},
     "output_type": "display_data"
    },
    {
     "name": "stdout",
     "output_type": "stream",
     "text": [
      "It's okay my sweet prince part 2\n",
      ".\n",
      ".\n",
      ".\n",
      "#meme #memes #dankmeme #dankmemes #edgymemes #memesdaily #yeet #funnymemes #oof #wholesomememes #wholesomememe #edgy #edgymeme  #boi #ree #yeetyeet #yeetus #son #2019 #chungus #bigchungus  #ugandanknuckles  #datboi #hashtag #dogmemes #dogmeme #cursedimage #goodnightmysweetprince\n",
      "MM5dad07f66b5944b99650bb067d3a1180\n",
      "MMfa6b691a3b0242e88309249ef998c364\n"
     ]
    }
   ],
   "source": [
    "full_items = get_posts('dogmeme')\n",
    "content = get_urls_with_captions(full_items)\n",
    "display_images(content[:3])\n",
    "\n",
    "send_message(content[0],tome,sender)\n",
    "send_message(content[1],toher,sender)"
   ]
  }
 ],
 "metadata": {
  "kernelspec": {
   "display_name": "instapupper",
   "language": "python",
   "name": "instapupper"
  },
  "language_info": {
   "codemirror_mode": {
    "name": "ipython",
    "version": 3
   },
   "file_extension": ".py",
   "mimetype": "text/x-python",
   "name": "python",
   "nbconvert_exporter": "python",
   "pygments_lexer": "ipython3",
   "version": "3.7.1"
  }
 },
 "nbformat": 4,
 "nbformat_minor": 2
}
