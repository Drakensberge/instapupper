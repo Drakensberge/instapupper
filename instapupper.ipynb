{
 "cells": [
  {
   "cell_type": "code",
   "execution_count": 263,
   "metadata": {},
   "outputs": [],
   "source": [
    "%reload_ext dotenv\n",
    "%dotenv .env\n",
    "import os\n",
    "# Store your passwords and usernames and api keys and stuff in a file called .env . \n",
    "# Make sure to not track that file in Git!\n",
    "# This isn't super secure but it's better than putting secrets in your notebook.\n",
    "\n",
    "# The .env file should consist of rows that look like:\n",
    "# var_name='value'"
   ]
  },
  {
   "cell_type": "code",
   "execution_count": 245,
   "metadata": {},
   "outputs": [
    {
     "name": "stdout",
     "output_type": "stream",
     "text": [
      "Request return 429 error!\n",
      "{'message': 'Please wait a few minutes before you try again.', 'status': 'fail'}\n",
      "Request return 404 error!\n",
      "Login success!\n",
      "\n"
     ]
    },
    {
     "data": {
      "text/plain": [
       "True"
      ]
     },
     "execution_count": 245,
     "metadata": {},
     "output_type": "execute_result"
    }
   ],
   "source": [
    "from InstagramAPI import InstagramAPI\n",
    "os.getenv('username')\n",
    "os.getenv('pwd')\n",
    "InstagramAPI = InstagramAPI(os.getenv('username'), os.getenv('pwd'))\n",
    "\n",
    "InstagramAPI.login()"
   ]
  },
  {
   "cell_type": "code",
   "execution_count": 249,
   "metadata": {},
   "outputs": [],
   "source": [
    "def get_url(timeline_item):\n",
    "    try:\n",
    "        return timeline_item['image_versions2']['candidates'][0]['url']\n",
    "    except:\n",
    "        return None"
   ]
  },
  {
   "cell_type": "code",
   "execution_count": 250,
   "metadata": {},
   "outputs": [],
   "source": [
    "from IPython.display import Image\n",
    "from IPython.display import display\n",
    "\n",
    "def display_images(url_list):\n",
    "    for url,caption in url_list:\n",
    "        img = Image(url=url)\n",
    "        display(img)\n",
    "        print(caption)\n"
   ]
  },
  {
   "cell_type": "code",
   "execution_count": 251,
   "metadata": {},
   "outputs": [],
   "source": [
    "def get_caption(timeline_item):\n",
    "    return timeline_item['caption']['text']"
   ]
  },
  {
   "cell_type": "code",
   "execution_count": 252,
   "metadata": {},
   "outputs": [],
   "source": [
    "def get_urls_with_captions(items):\n",
    "    urls_with_captions = []\n",
    "    for item in items:\n",
    "        caption = None\n",
    "        url = get_url(item)\n",
    "        caption = get_caption(item)\n",
    "        #print((url, caption))\n",
    "        urls_with_captions.append((url, caption))\n",
    "    return urls_with_captions"
   ]
  },
  {
   "cell_type": "code",
   "execution_count": 254,
   "metadata": {},
   "outputs": [],
   "source": [
    "import time\n",
    "import json\n",
    "\n",
    "def get_posts(topic, max_posts=5, max_id=''):\n",
    "    full_items=[]\n",
    "    has_more_posts = True\n",
    "\n",
    "    while has_more_posts:\n",
    "        InstagramAPI.getHashtagFeed(topic, maxid=max_id)\n",
    "        if InstagramAPI.LastJson['more_available'] is not True:\n",
    "            has_more_posts = False #stop condition\n",
    "            print(\"no more posts to load\")\n",
    "        max_id = InstagramAPI.LastJson.get('next_max_id','')\n",
    "        #remove non-image posts\n",
    "        photo_batch= filter(lambda k: k['media_type']==1, InstagramAPI.LastJson['items'])\n",
    "        #remove captionless images\n",
    "        photo_batch= filter(lambda k: k['caption'], photo_batch)\n",
    "        full_items.extend(photo_batch) #merge lists\n",
    "        time.sleep(0.05) # Slows the script down to avoid flooding the servers \n",
    "        print(len(full_items))\n",
    "        if len(full_items) > max_posts:\n",
    "            break\n",
    "            \n",
    "    return full_items"
   ]
  },
  {
   "cell_type": "code",
   "execution_count": 265,
   "metadata": {},
   "outputs": [],
   "source": [
    "from twilio.rest import Client\n",
    "\n",
    "# Your Account SID and Auth Token from twilio.com/console\n",
    "client = Client(os.getenv('account_sid'), os.getenv('auth_token'))\n"
   ]
  },
  {
   "cell_type": "code",
   "execution_count": 266,
   "metadata": {},
   "outputs": [],
   "source": [
    "def send_message(img_with_caption,to,sender):\n",
    "    message = client.messages.create(\n",
    "                                  body=img_with_caption[1],\n",
    "                                  to=to,\n",
    "                                  from_=sender,\n",
    "                                  media_url=img_with_caption[0]\n",
    "                              )\n",
    "\n",
    "    print(message.sid)"
   ]
  },
  {
   "cell_type": "code",
   "execution_count": 268,
   "metadata": {},
   "outputs": [],
   "source": [
    "# phone numbers to send messges to\n",
    "tome = os.getenv('tome')\n",
    "toher = os.getenv('toher')\n",
    "# this one comes from the twilio service\n",
    "sender = os.getenv('sender')"
   ]
  },
  {
   "cell_type": "code",
   "execution_count": 269,
   "metadata": {},
   "outputs": [
    {
     "name": "stdout",
     "output_type": "stream",
     "text": [
      "60\n"
     ]
    },
    {
     "data": {
      "text/html": [
       "<img src=\"https://scontent-sjc3-1.cdninstagram.com/vp/a852946fbb986984e470e11358747bc7/5CDFC215/t51.2885-15/e35/50246543_136555230708544_2349132529337337916_n.jpg?_nc_ht=scontent-sjc3-1.cdninstagram.com&ig_cache_key=MTk3MDkwNDgxMjI3MjA2MTk4MQ%3D%3D.2\"/>"
      ],
      "text/plain": [
       "<IPython.core.display.Image object>"
      ]
     },
     "metadata": {},
     "output_type": "display_data"
    },
    {
     "name": "stdout",
     "output_type": "stream",
     "text": [
      "I’m the good boy! .\n",
      ".\n",
      ".\n",
      ".\n",
      ".\n",
      ".\n",
      ".\n",
      ".\n",
      ".\n",
      "#alaskanmalamute #alaskan #malamute #husky #huskey #puppy #dogs #dogsofinstagram #puppies #puppiesofinstagram #goofydog #silly #huskies #huskypuppy #malamutepuppy #goofydogs #huskypuppies  #dogmeme #dogmemes #funny #memes #funnydog #dogmemeofinsta #huskypuppies #dogsofinstagram #huskypuppy #puppylove #puppy #wagwalk #wagwalker #wag\n"
     ]
    },
    {
     "data": {
      "text/html": [
       "<img src=\"https://scontent-sjc3-1.cdninstagram.com/vp/c870bb698df3c384ba00f917b2e844b6/5CF9C484/t51.2885-15/e35/50722789_1602015556608553_2083027903963523238_n.jpg?_nc_ht=scontent-sjc3-1.cdninstagram.com&ig_cache_key=MTk3MDkwMzc1MjYzMDUzMzI1NA%3D%3D.2\"/>"
      ],
      "text/plain": [
       "<IPython.core.display.Image object>"
      ]
     },
     "metadata": {},
     "output_type": "display_data"
    },
    {
     "name": "stdout",
     "output_type": "stream",
     "text": [
      "#dogs #dogmeme #funnydog #dogzoned #funnydogmeme #memeoftheday\n"
     ]
    },
    {
     "data": {
      "text/html": [
       "<img src=\"https://scontent-sjc3-1.cdninstagram.com/vp/cf8aec97aa9db23bbab6ad66d2c073f3/5CDA4C93/t51.2885-15/sh0.08/e35/s750x750/49907030_306939783292700_2525871238310943370_n.jpg?_nc_ht=scontent-sjc3-1.cdninstagram.com&ig_cache_key=MTk3MDg5ODExOTgzMjIxNDIyOA%3D%3D.2\"/>"
      ],
      "text/plain": [
       "<IPython.core.display.Image object>"
      ]
     },
     "metadata": {},
     "output_type": "display_data"
    },
    {
     "name": "stdout",
     "output_type": "stream",
     "text": [
      "It's okay my sweet prince part 2\n",
      ".\n",
      ".\n",
      ".\n",
      "#meme #memes #dankmeme #dankmemes #edgymemes #memesdaily #yeet #funnymemes #oof #wholesomememes #wholesomememe #edgy #edgymeme  #boi #ree #yeetyeet #yeetus #son #2019 #chungus #bigchungus  #ugandanknuckles  #datboi #hashtag #dogmemes #dogmeme #cursedimage #goodnightmysweetprince\n",
      "MM5dad07f66b5944b99650bb067d3a1180\n",
      "MMfa6b691a3b0242e88309249ef998c364\n"
     ]
    }
   ],
   "source": [
    "full_items = get_posts('dogmeme')\n",
    "content = get_urls_with_captions(full_items)\n",
    "display_images(content[:3])\n",
    "\n",
    "send_message(content[0],tome,sender)\n",
    "send_message(content[1],toher,sender)"
   ]
  }
 ],
 "metadata": {
  "kernelspec": {
   "display_name": "instapupper",
   "language": "python",
   "name": "instapupper"
  },
  "language_info": {
   "codemirror_mode": {
    "name": "ipython",
    "version": 3
   },
   "file_extension": ".py",
   "mimetype": "text/x-python",
   "name": "python",
   "nbconvert_exporter": "python",
   "pygments_lexer": "ipython3",
   "version": "3.7.1"
  }
 },
 "nbformat": 4,
 "nbformat_minor": 2
}
